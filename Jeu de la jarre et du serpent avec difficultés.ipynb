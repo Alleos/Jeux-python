{
 "cells": [
  {
   "cell_type": "code",
   "execution_count": 7,
   "metadata": {},
   "outputs": [
    {
     "name": "stdout",
     "output_type": "stream",
     "text": [
      "Bienvenue dans le jeu !\n",
      "Ecrit 1:facile, 2:moyen, 3:difficile1\n",
      "Vous disposez de 5 jarres devant vous. Choisit 1, 2, 3, 4 ou 5\n",
      "1\n",
      "Le joueur a mit la jarre n° 1\n",
      "Perdu ! un serpent apparait !\n",
      "Vous disposez de 5 jarres devant vous. Choisit 1, 2, 3, 4 ou 5\n",
      "5\n",
      "Le joueur a mit la jarre n° 5\n",
      "Gagné ! tu obtiens une clé magique ! La jarre infécté était ['K', 'K', 'S', 'K', 'K']\n",
      "Tu as actuellement 1 /3 clés\n",
      "Vous disposez de 5 jarres devant vous. Choisit 1, 2, 3, 4 ou 5\n",
      "3\n",
      "Le joueur a mit la jarre n° 3\n",
      "Gagné ! tu obtiens une clé magique ! La jarre infécté était ['K', 'S', 'K', 'K', 'K']\n",
      "Tu as actuellement 2 /3 clés\n",
      "Vous disposez de 5 jarres devant vous. Choisit 1, 2, 3, 4 ou 5\n",
      "4\n",
      "Le joueur a mit la jarre n° 4\n",
      "Gagné ! tu obtiens une clé magique ! La jarre infécté était ['K', 'K', 'K', 'K', 'S']\n",
      "Tu as actuellement 3 /3 clés\n",
      "Tu deviens le roi du temple !\n"
     ]
    }
   ],
   "source": [
    "import random\n",
    "\n",
    "print(\"Bienvenue dans le jeu !\")\n",
    "\n",
    "# choix du parametrage/niveau de difficulté\n",
    "level = int(input(\"Ecrit 1:facile, 2:moyen, 3:difficile\"))\n",
    "\n",
    "# compteur de clés magique\n",
    "trousseaux = 0\n",
    "\n",
    "# repeter les manches de notre jeu\n",
    "while trousseaux != 3:\n",
    "    print(\"Vous disposez de 5 jarres devant vous. Choisit 1, 2, 3, 4 ou 5\")\n",
    "\n",
    "    # on genere autant de serpent que le niveau\n",
    "    snakes = ['S'] * level\n",
    "\n",
    "    # on genere autant de jarres non infectés que la difference\n",
    "    keys = ['K'] * (5 - level)\n",
    "\n",
    "    # on combine les jarres inféctés avec les non inféctés\n",
    "    jars = snakes + keys\n",
    "\n",
    "    # on melange les jarres infectés avec les clés magique\n",
    "    random.shuffle(jars)\n",
    "\n",
    "    # demande à notre joueur de mettre une valeur\n",
    "    choix = int(input())\n",
    "\n",
    "    print(\"Le joueur a mit la jarre n°\", choix)\n",
    "\n",
    "    # verification\n",
    "    if jars[choix-1] == 'K': #gagné\n",
    "        print(\"Gagné ! tu obtiens une clé magique ! La jarre infécté était\", jars)\n",
    "        trousseaux += 1\n",
    "        print(\"Tu as actuellement\", trousseaux, \"/3 clés\")\n",
    "    else:\n",
    "        print(\"Perdu ! un serpent apparait !\")\n",
    "        \n",
    "        # si le joueur n'a pas de clé\n",
    "        if trousseaux > 0:\n",
    "            trousseaux -= 1\n",
    "            print(\"Tu as actuellement\", trousseaux, \"/3 clés\")\n",
    "            print(f\"Tu as actuellement {trousseaux}/3 clés\")\n",
    "            print(\"Tu as actuellement\" + str(trousseaux) + \"/3 clés\")\n",
    "\n",
    "print(\"Tu deviens le roi du temple !\")"
   ]
  },
  {
   "cell_type": "code",
   "execution_count": null,
   "metadata": {},
   "outputs": [],
   "source": []
  }
 ],
 "metadata": {
  "kernelspec": {
   "display_name": "Python 3",
   "language": "python",
   "name": "python3"
  },
  "language_info": {
   "codemirror_mode": {
    "name": "ipython",
    "version": 3
   },
   "file_extension": ".py",
   "mimetype": "text/x-python",
   "name": "python",
   "nbconvert_exporter": "python",
   "pygments_lexer": "ipython3",
   "version": "3.7.4"
  }
 },
 "nbformat": 4,
 "nbformat_minor": 2
}
